{
 "cells": [
  {
   "cell_type": "markdown",
   "metadata": {},
   "source": [
    "# HEPATITIS C PREDICTION APPLICATION"
   ]
  },
  {
   "cell_type": "code",
   "execution_count": 383,
   "metadata": {},
   "outputs": [],
   "source": [
    "import ipywidgets as widgets\n",
    "import pandas as pd\n",
    "import numpy as np\n",
    "import matplotlib.pyplot as plt\n",
    "import seaborn as sns\n",
    "import warnings\n",
    "warnings.simplefilter(\"ignore\")\n",
    "from IPython.display import display, clear_output"
   ]
  },
  {
   "cell_type": "code",
   "execution_count": 384,
   "metadata": {},
   "outputs": [],
   "source": [
    "df = pd.read_csv(\"dataset/HepatitisCdata.csv\")\n",
    "df_mod = pd.read_csv(\"dataset/HepatitisCdata.csv\")"
   ]
  },
  {
   "cell_type": "code",
   "execution_count": 385,
   "metadata": {},
   "outputs": [],
   "source": [
    "ALL = 'ALL'\n",
    "def unique_sorted_values_plus_ALL(array):\n",
    "    unique = array.unique().tolist()\n",
    "    unique.sort()\n",
    "    unique.insert(0, ALL)\n",
    "    return unique"
   ]
  },
  {
   "cell_type": "code",
   "execution_count": 386,
   "metadata": {
    "scrolled": false
   },
   "outputs": [],
   "source": [
    "# read data\n",
    "\n",
    "output_read_data = widgets.Output()\n",
    "\n",
    "dropdown_age = widgets.Dropdown(options = unique_sorted_values_plus_ALL(df.Age), description=\"Age :\")\n",
    "dropdown_category = widgets.Dropdown(options = unique_sorted_values_plus_ALL(df.Category), description=\"Category :\")\n",
    "\n",
    "def filtering(age, category):\n",
    "    output_read_data.clear_output()\n",
    "    \n",
    "    if (age == ALL) & (category == ALL):\n",
    "        filtering = df\n",
    "    elif (age == ALL):\n",
    "        filtering = df[df.Category == category]\n",
    "    elif (category == ALL):\n",
    "        filtering = df[df.Age == age]\n",
    "    else:\n",
    "        filtering = df[(df.Age == age) & (df.Category == category)]\n",
    "    \n",
    "    with output_read_data:\n",
    "        display(filtering)\n",
    "\n",
    "def dropdown_age_handler(change):\n",
    "    filtering(change.new, dropdown_category.value)\n",
    "\n",
    "def dropdown_category_handler(change):\n",
    "    filtering(dropdown_age.value, change.new)\n",
    "    \n",
    "dropdown_age.observe(dropdown_age_handler, names='value')\n",
    "dropdown_category.observe(dropdown_category_handler, names='value')"
   ]
  },
  {
   "cell_type": "code",
   "execution_count": 387,
   "metadata": {},
   "outputs": [],
   "source": [
    "input_widgets = widgets.HBox([dropdown_age, dropdown_category])\n",
    "read_data_by_filter = widgets.VBox([input_widgets, output_read_data])"
   ]
  },
  {
   "cell_type": "code",
   "execution_count": 388,
   "metadata": {},
   "outputs": [],
   "source": [
    "#modify data\n",
    "\n",
    "df_mod.drop(\"Unnamed: 0\", axis=1, inplace=True)"
   ]
  },
  {
   "cell_type": "code",
   "execution_count": 389,
   "metadata": {},
   "outputs": [],
   "source": [
    "# Mapping numeric values\n",
    "\n",
    "df_mod['Category'] = df_mod['Category'].map({'0=Blood Donor': 0, '0s=suspect Blood Donor': 0, \n",
    "                                    \"1=Hepatitis\" : 1, \"2=Fibrosis\" : 1, \"3=Cirrhosis\" : 1})\n",
    "df_mod['Sex'] = df_mod['Sex'].map({'m': 1, 'f': 2})"
   ]
  },
  {
   "cell_type": "code",
   "execution_count": 390,
   "metadata": {},
   "outputs": [],
   "source": [
    "# Filling missing values with the median\n",
    "df_mod.fillna(df_mod.median(), inplace=True)"
   ]
  },
  {
   "cell_type": "code",
   "execution_count": 391,
   "metadata": {},
   "outputs": [],
   "source": [
    "#corrolasion matrix\n",
    "output_color = widgets.Output()\n",
    "\n",
    "dropdown_color = widgets.Dropdown(\n",
    "    options = ['Accent', 'Accent_r', 'Blues', 'Blues_r', 'BrBG', 'BrBG_r', 'BuGn', 'BuGn_r', 'BuPu', 'BuPu_r', 'CMRmap', 'CMRmap_r', 'Dark2', 'Dark2_r', 'GnBu', 'GnBu_r', 'Greens', 'Greens_r', 'Greys', 'Greys_r', 'OrRd', 'OrRd_r', 'Oranges', 'Oranges_r', 'PRGn', 'PRGn_r', 'Paired', 'Paired_r', 'Pastel1', 'Pastel1_r', 'Pastel2', 'Pastel2_r', 'PiYG', 'PiYG_r', 'PuBu', 'PuBuGn', 'PuBuGn_r', 'PuBu_r', 'PuOr', 'PuOr_r', 'PuRd', 'PuRd_r', 'Purples', 'Purples_r', 'RdBu', 'RdBu_r', 'RdGy', 'RdGy_r', 'RdPu', 'RdPu_r', 'RdYlBu', 'RdYlBu_r', 'RdYlGn', 'RdYlGn_r', 'Reds', 'Reds_r', 'Set1', 'Set1_r', 'Set2', 'Set2_r', 'Set3', 'Set3_r', 'Spectral', 'Spectral_r', 'Wistia', 'Wistia_r', 'YlGn', 'YlGnBu', 'YlGnBu_r', 'YlGn_r', 'YlOrBr', 'YlOrBr_r', 'YlOrRd', 'YlOrRd_r', 'afmhot', 'afmhot_r', 'autumn', 'autumn_r', 'binary', 'binary_r', 'bone', 'bone_r', 'brg', 'brg_r', 'bwr', 'bwr_r', 'cividis', 'cividis_r', 'cool', 'cool_r', 'coolwarm', 'coolwarm_r', 'copper', 'copper_r', 'crest', 'crest_r', 'cubehelix', 'cubehelix_r', 'flag', 'flag_r', 'flare', 'flare_r', 'gist_earth', 'gist_earth_r', 'gist_gray', 'gist_gray_r', 'gist_heat', 'gist_heat_r', 'gist_ncar', 'gist_ncar_r', 'gist_rainbow', 'gist_rainbow_r', 'gist_stern', 'gist_stern_r', 'gist_yarg', 'gist_yarg_r', 'gnuplot', 'gnuplot2', 'gnuplot2_r', 'gnuplot_r', 'gray', 'gray_r', 'hot', 'hot_r', 'hsv', 'hsv_r', 'icefire', 'icefire_r', 'inferno', 'inferno_r', 'jet', 'jet_r', 'magma', 'magma_r', 'mako', 'mako_r', 'nipy_spectral', 'nipy_spectral_r', 'ocean', 'ocean_r', 'pink', 'pink_r', 'plasma', 'plasma_r', 'prism', 'prism_r', 'rainbow', 'rainbow_r', 'rocket', 'rocket_r', 'seismic', 'seismic_r', 'spring', 'spring_r', 'summer', 'summer_r', 'tab10', 'tab10_r', 'tab20', 'tab20_r', 'tab20b', 'tab20b_r', 'tab20c', 'tab20c_r', 'terrain', 'terrain_r', 'turbo', 'turbo_r', 'twilight', 'twilight_r', 'twilight_shifted', 'twilight_shifted_r', 'viridis', 'viridis_r', 'vlag', 'vlag_r', 'winter', 'winter_r'],\n",
    "    values = 'Blues_r',\n",
    "    description = 'Color :'\n",
    ")\n",
    "\n",
    "def dropdown_color_handler(change):\n",
    "    with output_color:\n",
    "        output_color.clear_output()\n",
    "        if (change.new == 'Blues_r'):\n",
    "            fig, ax = plt.subplots(figsize=(10,8))\n",
    "            sns.heatmap(df_mod.corr(), annot=True, fmt='.1g', cmap=\"Blues_r\", cbar=False, linewidths=0.5, linecolor='grey');\n",
    "            plt.show()\n",
    "        else:\n",
    "            fig, ax = plt.subplots(figsize=(10,8))\n",
    "            sns.heatmap(df_mod.corr(), annot=True, fmt='.1g', cmap= change.new, cbar=False, linewidths=0.5, linecolor='grey');\n",
    "            plt.show()\n",
    "\n",
    "dropdown_color.observe(dropdown_color_handler, names='value')"
   ]
  },
  {
   "cell_type": "code",
   "execution_count": 392,
   "metadata": {},
   "outputs": [],
   "source": [
    "widget_corr_matrix = widgets.VBox([dropdown_color, output_color])"
   ]
  },
  {
   "cell_type": "code",
   "execution_count": 434,
   "metadata": {},
   "outputs": [],
   "source": [
    "# calculate comparasion between data (male and female, infected or not)\n",
    "output_color_patients = widgets.Output()\n",
    "\n",
    "\n",
    "color_picker_1 = widgets.ColorPicker(\n",
    "    concise=False,\n",
    "    description='Pick a first color',\n",
    "    value='#b22222',\n",
    "    disabled=False\n",
    ")\n",
    "\n",
    "color_picker_2 = widgets.ColorPicker(\n",
    "    concise=False,\n",
    "    description='Pick a second color',\n",
    "    value='#2E8B57',\n",
    "    disabled=False\n",
    ")\n",
    "def filtering_color(color1, color2):\n",
    "    with output_color_patients:\n",
    "        output_color_patients.clear_output()\n",
    "    \n",
    "        if (color1 == '#b22222') & (color2 == '#2E8B57'):\n",
    "            print ('Total Suspected Patients : {} '.format(df_mod.Category.value_counts()[0]))\n",
    "            print ('Total Healthy Patients : {} '.format(df_mod.Category.value_counts()[1]))\n",
    "\n",
    "            fig, ax = plt.subplots(figsize=(8,8))\n",
    "\n",
    "            plt.pie(x=df_mod[\"Category\"].value_counts(), \n",
    "                    colors=[\"#b22222\",\"#2E8B57\"], \n",
    "                    labels=[\"Suspected Patients\",\"Healthy Patients\"], \n",
    "                    shadow = True, \n",
    "                    autopct=\"%1.2f%%\",\n",
    "                    explode = (0, 0.1)\n",
    "                    )\n",
    "\n",
    "            plt.show()\n",
    "        elif (color1 == '#b22222'):\n",
    "            print ('Total Suspected Patients : {} '.format(df_mod.Category.value_counts()[0]))\n",
    "            print ('Total Healthy Patients : {} '.format(df_mod.Category.value_counts()[1]))\n",
    "            fig, ax = plt.subplots(figsize=(8,8))\n",
    "\n",
    "            plt.pie(x=df_mod[\"Category\"].value_counts(), \n",
    "                    colors=[\"#b22222\",color2], \n",
    "                    labels=[\"Suspected Patients\",\"Healthy Patients\"], \n",
    "                    shadow = True, \n",
    "                    autopct=\"%1.2f%%\",\n",
    "                    explode = (0, 0.1)\n",
    "                    )\n",
    "\n",
    "            plt.show()\n",
    "        elif (color2 == '#2E8B57'):\n",
    "            print ('Total Suspected Patients : {} '.format(df_mod.Category.value_counts()[0]))\n",
    "            print ('Total Healthy Patients : {} '.format(df_mod.Category.value_counts()[1]))\n",
    "            fig, ax = plt.subplots(figsize=(8,8))\n",
    "\n",
    "            plt.pie(x=df_mod[\"Category\"].value_counts(), \n",
    "                    colors=[color1,'#2E8B57'], \n",
    "                    labels=[\"Suspected Patients\",\"Healthy Patients\"], \n",
    "                    shadow = True, \n",
    "                    autopct=\"%1.2f%%\",\n",
    "                    explode = (0, 0.1)\n",
    "                    )\n",
    "\n",
    "            plt.show()\n",
    "        else:\n",
    "            print ('Total Suspected Patients : {} '.format(df_mod.Category.value_counts()[0]))\n",
    "            print ('Total Healthy Patients : {} '.format(df_mod.Category.value_counts()[1]))\n",
    "            fig, ax = plt.subplots(figsize=(8,8))\n",
    "\n",
    "            plt.pie(x=df_mod[\"Category\"].value_counts(), \n",
    "                    colors=[color1,color2], \n",
    "                    labels=[\"Suspected Patients\",\"Healthy Patients\"], \n",
    "                    shadow = True, \n",
    "                    autopct=\"%1.2f%%\",\n",
    "                    explode = (0, 0.1)\n",
    "                    )\n",
    "\n",
    "            plt.show()\n",
    "def first_color_picker_handler(change):\n",
    "    filtering_color(change.new, color_picker_2.value)\n",
    "\n",
    "def second_color_picker_handler(change):\n",
    "    filtering_color(color_picker_1.value, change.new)\n",
    "\n",
    "color_picker_1.observe(first_color_picker_handler, names='value')\n",
    "color_picker_2.observe(second_color_picker_handler, names='value')"
   ]
  },
  {
   "cell_type": "code",
   "execution_count": 435,
   "metadata": {},
   "outputs": [],
   "source": [
    "patients_color_picker = widgets.HBox([color_picker_1, color_picker_2])\n",
    "patients_comparasion = widgets.VBox([widgets.HTML(\n",
    "    value=\"1. Suspected and Healthy Patients Comparasion\",\n",
    "    ), \n",
    "    patients_color_picker,\n",
    "    output_color_patients\n",
    "])\n",
    "comparasion_menu = widgets.VBox([patients_comparasion])"
   ]
  },
  {
   "cell_type": "code",
   "execution_count": 433,
   "metadata": {},
   "outputs": [
    {
     "data": {
      "application/vnd.jupyter.widget-view+json": {
       "model_id": "11e45f89aaca402c81a43ac35aa0dc5f",
       "version_major": 2,
       "version_minor": 0
      },
      "text/plain": [
       "Tab(children=(VBox(children=(HBox(children=(Dropdown(description='Age :', index=13, options=('ALL', 19, 23, 25…"
      ]
     },
     "metadata": {},
     "output_type": "display_data"
    }
   ],
   "source": [
    "tab = widgets.Tab([read_data_by_filter, widget_corr_matrix, comparasion_menu])\n",
    "tab.set_title(0, 'Read Data')\n",
    "tab.set_title(1, 'Correlation Matrix')\n",
    "tab.set_title(2, 'Comparasion Category')\n",
    "\n",
    "display(tab)"
   ]
  },
  {
   "cell_type": "code",
   "execution_count": null,
   "metadata": {},
   "outputs": [],
   "source": []
  }
 ],
 "metadata": {
  "kernelspec": {
   "display_name": "Python 3",
   "language": "python",
   "name": "python3"
  },
  "language_info": {
   "codemirror_mode": {
    "name": "ipython",
    "version": 3
   },
   "file_extension": ".py",
   "mimetype": "text/x-python",
   "name": "python",
   "nbconvert_exporter": "python",
   "pygments_lexer": "ipython3",
   "version": "3.8.5"
  }
 },
 "nbformat": 4,
 "nbformat_minor": 4
}
